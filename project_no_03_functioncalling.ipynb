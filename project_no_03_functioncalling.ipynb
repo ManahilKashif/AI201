{
  "nbformat": 4,
  "nbformat_minor": 0,
  "metadata": {
    "colab": {
      "provenance": [],
      "authorship_tag": "ABX9TyNU5IrdHLPUw6g2AcTIXwip",
      "include_colab_link": true
    },
    "kernelspec": {
      "name": "python3",
      "display_name": "Python 3"
    },
    "language_info": {
      "name": "python"
    }
  },
  "cells": [
    {
      "cell_type": "markdown",
      "metadata": {
        "id": "view-in-github",
        "colab_type": "text"
      },
      "source": [
        "<a href=\"https://colab.research.google.com/github/ManahilKashif/AI201/blob/main/project_no_03_functioncalling.ipynb\" target=\"_parent\"><img src=\"https://colab.research.google.com/assets/colab-badge.svg\" alt=\"Open In Colab\"/></a>"
      ]
    },
    {
      "cell_type": "code",
      "execution_count": 1,
      "metadata": {
        "colab": {
          "base_uri": "https://localhost:8080/"
        },
        "collapsed": true,
        "id": "iIDXJWr-038_",
        "outputId": "1ee641c1-da8b-46f4-9417-82c8b78cb3de"
      },
      "outputs": [
        {
          "output_type": "stream",
          "name": "stdout",
          "text": [
            "Successfully installed dataclasses-json-0.6.7 filetype-1.2.0 httpx-sse-0.4.0 langchain_community-0.3.14 langchain_google_genai-2.0.8 marshmallow-3.25.1 mypy-extensions-1.0.0 pydantic-settings-2.7.1 python-dotenv-1.0.1 typing-inspect-0.9.0\n"
          ]
        }
      ],
      "source": [
        "!pip install langchain langchain_community langchain_google_genai"
      ]
    },
    {
      "cell_type": "code",
      "source": [
        "from google.colab import userdata\n",
        "import os\n",
        "os.environ['GOOGLE_API_KEY']=userdata.get('GOOGLE_API_KEY')"
      ],
      "metadata": {
        "id": "GBQUUO831Bpp"
      },
      "execution_count": 2,
      "outputs": []
    },
    {
      "cell_type": "code",
      "source": [
        "\n",
        "\n",
        "from langchain_google_genai import ChatGoogleGenerativeAI\n",
        "\n",
        "llm=ChatGoogleGenerativeAI(model='gemini-1.5-flash',verbose=True)\n",
        "\n",
        "llm.invoke(\"Hi\")\n"
      ],
      "metadata": {
        "colab": {
          "base_uri": "https://localhost:8080/"
        },
        "id": "LEwigeWF3ABH",
        "outputId": "f4a8cbe6-ba16-4dc9-b3f8-f829df5946f0"
      },
      "execution_count": 3,
      "outputs": [
        {
          "output_type": "execute_result",
          "data": {
            "text/plain": [
              "AIMessage(content='Hi there! How can I help you today?', additional_kwargs={}, response_metadata={'prompt_feedback': {'block_reason': 0, 'safety_ratings': []}, 'finish_reason': 'STOP', 'safety_ratings': []}, id='run-f6ababc0-b5c6-4dcf-9d23-27f0106ff30d-0', usage_metadata={'input_tokens': 2, 'output_tokens': 11, 'total_tokens': 13, 'input_token_details': {'cache_read': 0}})"
            ]
          },
          "metadata": {},
          "execution_count": 3
        }
      ]
    },
    {
      "cell_type": "code",
      "source": [
        "\n",
        "from langchain_core.tools import tool\n",
        "\n",
        "@tool\n",
        "def multiply(a: int, b: int) -> int:\n",
        "    \"\"\"Multiply a and b.\n",
        "\n",
        "    Args:\n",
        "        a: first int\n",
        "        b: second int\n",
        "    \"\"\"\n",
        "    return a * b\n",
        "\n",
        "llm_with_tools = llm.bind_tools([multiply])"
      ],
      "metadata": {
        "id": "DYpQB2wr3caY"
      },
      "execution_count": 4,
      "outputs": []
    },
    {
      "cell_type": "code",
      "source": [
        "\n",
        "tools_list=[multiply]\n",
        "model_with_tools = llm.bind_tools(tools_list)"
      ],
      "metadata": {
        "id": "bXsDqHl95beS"
      },
      "execution_count": 5,
      "outputs": []
    },
    {
      "cell_type": "code",
      "source": [
        "\n",
        "result = llm_with_tools.invoke(\"Hey how are you!\")\n",
        "result"
      ],
      "metadata": {
        "colab": {
          "base_uri": "https://localhost:8080/"
        },
        "id": "GjYSREOk5iFd",
        "outputId": "21edd24e-0c9c-49b5-eb46-8085a8c218a7"
      },
      "execution_count": 6,
      "outputs": [
        {
          "output_type": "execute_result",
          "data": {
            "text/plain": [
              "AIMessage(content=\"I'm doing well, thank you for asking! How are you today?\", additional_kwargs={}, response_metadata={'prompt_feedback': {'block_reason': 0, 'safety_ratings': []}, 'finish_reason': 'STOP', 'safety_ratings': []}, id='run-9934ea2f-9a53-4223-916e-dabd38177436-0', usage_metadata={'input_tokens': 68, 'output_tokens': 17, 'total_tokens': 85, 'input_token_details': {'cache_read': 0}})"
            ]
          },
          "metadata": {},
          "execution_count": 6
        }
      ]
    },
    {
      "cell_type": "code",
      "source": [
        "result = llm_with_tools.invoke(\"What is 2 multiplied by 3?\")\n",
        "result"
      ],
      "metadata": {
        "colab": {
          "base_uri": "https://localhost:8080/"
        },
        "id": "j77ZOikG5kP2",
        "outputId": "f4d34e6d-eaba-4a55-f0df-30c9b5848dd6"
      },
      "execution_count": 7,
      "outputs": [
        {
          "output_type": "execute_result",
          "data": {
            "text/plain": [
              "AIMessage(content='', additional_kwargs={'function_call': {'name': 'multiply', 'arguments': '{\"a\": 2.0, \"b\": 3.0}'}}, response_metadata={'prompt_feedback': {'block_reason': 0, 'safety_ratings': []}, 'finish_reason': 'STOP', 'safety_ratings': []}, id='run-4b35a3fc-7b56-460b-8e45-da3f0df9d9b3-0', tool_calls=[{'name': 'multiply', 'args': {'a': 2.0, 'b': 3.0}, 'id': '8f7597dd-6e6b-4cba-94b7-4cfd71397769', 'type': 'tool_call'}], usage_metadata={'input_tokens': 72, 'output_tokens': 3, 'total_tokens': 75, 'input_token_details': {'cache_read': 0}})"
            ]
          },
          "metadata": {},
          "execution_count": 7
        }
      ]
    },
    {
      "cell_type": "code",
      "source": [
        "from langchain.tools import Tool\n",
        "\n",
        "# Example tool for addition\n",
        "def divide_numbers(a, b):\n",
        "    return a / b\n",
        "\n",
        "math_tool = Tool(\n",
        "    name=\"AdditionTool\",\n",
        "    func=lambda x: f\"The result is: {divide_numbers(*map(int, x.split()))}\",\n",
        "    description=\"Adds two numbers. Input should be two integers separated by a space.\"\n",
        ")"
      ],
      "metadata": {
        "id": "wgrHysWm5sjN"
      },
      "execution_count": 15,
      "outputs": []
    },
    {
      "cell_type": "code",
      "source": [
        "\n",
        "from langchain.agents import initialize_agent, AgentType\n",
        "\n",
        "# List of tools\n",
        "tools = [math_tool]\n",
        "\n",
        "# Initialize the agent\n",
        "agent = initialize_agent(\n",
        "    tools=tools,                        # Provide the tools\n",
        "    llm=llm,                            # LLM for fallback\n",
        "    agent=AgentType.ZERO_SHOT_REACT_DESCRIPTION,  # Agent type\n",
        "    verbose=True                        # Enable debugging output\n",
        ")"
      ],
      "metadata": {
        "id": "_iEgCI0h50wD"
      },
      "execution_count": 16,
      "outputs": []
    },
    {
      "cell_type": "code",
      "source": [
        "# Query the agent\n",
        "response1 = agent.run(\"What is 100 / 20?\")  # Uses the tool\n",
        "print(response1)"
      ],
      "metadata": {
        "colab": {
          "base_uri": "https://localhost:8080/"
        },
        "id": "hnKNXAEI58NF",
        "outputId": "9b947815-08e3-46ac-ac1d-544ea7912e07"
      },
      "execution_count": 17,
      "outputs": [
        {
          "output_type": "stream",
          "name": "stdout",
          "text": [
            "\n",
            "\n",
            "\u001b[1m> Entering new AgentExecutor chain...\u001b[0m\n",
            "\u001b[32;1m\u001b[1;3mThought: I can solve this by finding a number that when multiplied by 20 equals 100.  Alternatively, I can use repeated subtraction.  Let's use a method that leverages the available tool.  I can repeatedly subtract 20 from 100 until I reach 0, counting the number of subtractions. This is equivalent to division.\n",
            "\n",
            "\n",
            "Action: AdditionTool\n",
            "Action Input: 100 -20\u001b[0m\n",
            "Observation: \u001b[36;1m\u001b[1;3mThe result is: -5.0\u001b[0m\n",
            "Thought:\u001b[32;1m\u001b[1;3mQuestion: What is 100 / 20?\n",
            "Thought: I can solve this by repeatedly subtracting 20 from 100 until I reach 0, counting the number of subtractions.  The AdditionTool isn't directly suited for subtraction, but I can use it to add negative numbers.  Let's try a different approach. I can use the AdditionTool to find what number multiplied by 20 equals 100.  I'll try different multiples of 20.\n",
            "\n",
            "Action: AdditionTool\n",
            "Action Input: 20 20\u001b[0m\n",
            "Observation: \u001b[36;1m\u001b[1;3mThe result is: 1.0\u001b[0m\n",
            "Thought:\u001b[32;1m\u001b[1;3mQuestion: What is 100 / 20?\n",
            "Thought: I can solve this by finding a number that when multiplied by 20 equals 100.  I can use the AdditionTool to repeatedly add 20 until I reach 100, counting the number of additions.\n",
            "\n",
            "Action: AdditionTool\n",
            "Action Input: 20 20\u001b[0m\n",
            "Observation: \u001b[36;1m\u001b[1;3mThe result is: 1.0\u001b[0m\n",
            "Thought:\u001b[32;1m\u001b[1;3mQuestion: What is 100 / 20?\n",
            "Thought: I can solve this by finding a number that when multiplied by 20 equals 100.  I can use the AdditionTool to repeatedly add 20 until I reach 100, counting the number of additions.  However, the AdditionTool only adds two numbers at a time.  I'll need to do this iteratively.\n",
            "\n",
            "Action: AdditionTool\n",
            "Action Input: 20 20\u001b[0m\n",
            "Observation: \u001b[36;1m\u001b[1;3mThe result is: 1.0\u001b[0m\n",
            "Thought:\u001b[32;1m\u001b[1;3mQuestion: What is 100 / 20?\n",
            "Thought: I can solve this by finding a number that when multiplied by 20 equals 100.  I cannot directly do this with the AdditionTool, which only adds two numbers.  However, I can try to iteratively add 20 to itself until I get close to 100.  This won't be precise with the given tool. Let's try a different approach.  I'll try to use the AdditionTool in a way that helps me figure out the answer.  I know that 20 * 5 = 100.  I can try adding 20 five times. This will not work directly with the AdditionTool.  Let's use a simpler approach.  I'll use my own knowledge of arithmetic.\n",
            "\n",
            "Thought: I now know the final answer\n",
            "Final Answer: 5\u001b[0m\n",
            "\n",
            "\u001b[1m> Finished chain.\u001b[0m\n",
            "5\n"
          ]
        }
      ]
    },
    {
      "cell_type": "code",
      "source": [],
      "metadata": {
        "id": "e_exB_Cg6Fr2"
      },
      "execution_count": null,
      "outputs": []
    }
  ]
}